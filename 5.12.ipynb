{
 "cells": [
  {
   "cell_type": "code",
   "execution_count": 4,
   "metadata": {},
   "outputs": [
    {
     "name": "stdout",
     "output_type": "stream",
     "text": [
      "发送成功\n"
     ]
    }
   ],
   "source": [
    "import smtplib\n",
    "from email.mime.text import MIMEText\n",
    "msg_from='512051843@qq.com'                                 #发送方邮箱\n",
    "passwd='dfmcpznngqokcaci'                                   #填入发送方邮箱的授权码\n",
    "msg_to='512051843@qq.com'                                   #收件人邮箱\n",
    "\n",
    "subject=\"python邮件测试\"                                     #主题     \n",
    "content=\"这是我使用python 发送的邮件\"                        #正文\n",
    "msg = MIMEText(content)\n",
    "msg['Subject'] = subject\n",
    "msg['From'] = msg_from\n",
    "msg['To'] = msg_to\n",
    "try:\n",
    "    s = smtplib.SMTP_SSL(\"smtp.qq.com\",465)                 #邮件服务器及端口号\n",
    "    s.login(msg_from, passwd)                               #登录SMTP服务器\n",
    "    s.sendmail(msg_from, msg_to, msg.as_string())#发邮件 as_string()把MIMEText对象变成str\n",
    "    print (\"发送成功\")\n",
    "except s.SMTPException:\n",
    "    print (\"发送失败\")\n",
    "finally:\n",
    "    s.quit()"
   ]
  },
  {
   "cell_type": "code",
   "execution_count": null,
   "metadata": {},
   "outputs": [],
   "source": []
  }
 ],
 "metadata": {
  "kernelspec": {
   "display_name": "Python 3",
   "language": "python",
   "name": "python3"
  },
  "language_info": {
   "codemirror_mode": {
    "name": "ipython",
    "version": 3
   },
   "file_extension": ".py",
   "mimetype": "text/x-python",
   "name": "python",
   "nbconvert_exporter": "python",
   "pygments_lexer": "ipython3",
   "version": "3.7.3"
  }
 },
 "nbformat": 4,
 "nbformat_minor": 2
}
