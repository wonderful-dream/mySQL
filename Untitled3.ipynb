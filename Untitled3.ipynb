{
 "cells": [
  {
   "cell_type": "code",
   "execution_count": 2,
   "metadata": {},
   "outputs": [
    {
     "name": "stdout",
     "output_type": "stream",
     "text": [
      "请输入第一个数6\n",
      "今天是星期六，明天是星期日\n"
     ]
    }
   ],
   "source": [
    "x = int(input(\"请输入第一个数\"))\n",
    "if x == 0: \n",
    "    print(\"今天是星期日，明天是星期一\")\n",
    "elif x == 1: \n",
    "            print(\"今天是星期一，明天是星期二\")\n",
    "elif x == 2:\n",
    "            print(\"今天是星期二，明天是星期三\")\n",
    "elif x == 3:\n",
    "            print(\"今天是星期三，明天是星期四\")\n",
    "elif x == 4:\n",
    "            print(\"今天是星期四，明天是星期五\")\n",
    "elif x == 5:\n",
    "            print(\"今天是星期五，明天是星期六\")\n",
    "elif x == 6:\n",
    "            print(\"今天是星期六，明天是星期日\")"
   ]
  },
  {
   "cell_type": "code",
   "execution_count": null,
   "metadata": {},
   "outputs": [],
   "source": []
  },
  {
   "cell_type": "code",
   "execution_count": null,
   "metadata": {},
   "outputs": [],
   "source": []
  }
 ],
 "metadata": {
  "kernelspec": {
   "display_name": "Python 3",
   "language": "python",
   "name": "python3"
  },
  "language_info": {
   "codemirror_mode": {
    "name": "ipython",
    "version": 3
   },
   "file_extension": ".py",
   "mimetype": "text/x-python",
   "name": "python",
   "nbconvert_exporter": "python",
   "pygments_lexer": "ipython3",
   "version": "3.7.3"
  }
 },
 "nbformat": 4,
 "nbformat_minor": 2
}
